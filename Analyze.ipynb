{
 "cells": [
  {
   "cell_type": "code",
   "execution_count": 1,
   "id": "a45de4a6",
   "metadata": {},
   "outputs": [],
   "source": [
    "import json\n",
    "import matplotlib.pyplot as plt\n",
    "import numpy as np\n",
    "\n",
    "num_species = 10\n",
    "num_gens = 10\n",
    "\n",
    "fitness = []\n",
    "\n",
    "for spec in range(num_species):\n",
    "    for gen in range(num_gens):\n",
    "        with open(f\"phenotypes/pheno-gen-{gen}-species-{spec}-hidden.json\") as f:\n",
    "            pheno = json.load(f)\n",
    "            fitness.append(pheno)\n",
    "        "
   ]
  },
  {
   "cell_type": "code",
   "execution_count": 2,
   "id": "d8c630c6",
   "metadata": {},
   "outputs": [
    {
     "data": {
      "text/html": [
       "<div>\n",
       "<style scoped>\n",
       "    .dataframe tbody tr th:only-of-type {\n",
       "        vertical-align: middle;\n",
       "    }\n",
       "\n",
       "    .dataframe tbody tr th {\n",
       "        vertical-align: top;\n",
       "    }\n",
       "\n",
       "    .dataframe thead th {\n",
       "        text-align: right;\n",
       "    }\n",
       "</style>\n",
       "<table border=\"1\" class=\"dataframe\">\n",
       "  <thead>\n",
       "    <tr style=\"text-align: right;\">\n",
       "      <th></th>\n",
       "      <th>species</th>\n",
       "      <th>gen</th>\n",
       "      <th>x</th>\n",
       "      <th>y</th>\n",
       "      <th>z</th>\n",
       "      <th>fitness</th>\n",
       "      <th>sense_hist</th>\n",
       "      <th>leg_hist</th>\n",
       "      <th>hidden</th>\n",
       "    </tr>\n",
       "  </thead>\n",
       "  <tbody>\n",
       "    <tr>\n",
       "      <th>0</th>\n",
       "      <td>0</td>\n",
       "      <td>0</td>\n",
       "      <td>-0.171180</td>\n",
       "      <td>-0.899281</td>\n",
       "      <td>1.086173</td>\n",
       "      <td>5</td>\n",
       "      <td>[0.0, 4.0, 4.0, 4.0, 4.0, -2.0, 4.0, 2.0, 4.0,...</td>\n",
       "      <td>[[0.0, 0.0, 0.0, 0.0], [1.0, 1.0, 1.0, 1.0], [...</td>\n",
       "      <td>True</td>\n",
       "    </tr>\n",
       "    <tr>\n",
       "      <th>1</th>\n",
       "      <td>0</td>\n",
       "      <td>1</td>\n",
       "      <td>-0.171180</td>\n",
       "      <td>-0.899281</td>\n",
       "      <td>1.086173</td>\n",
       "      <td>5</td>\n",
       "      <td>[0.0, 4.0, 4.0, 4.0, 4.0, -2.0, 4.0, 2.0, 4.0,...</td>\n",
       "      <td>[[0.0, 0.0, 0.0, 0.0], [1.0, 1.0, 1.0, 1.0], [...</td>\n",
       "      <td>True</td>\n",
       "    </tr>\n",
       "    <tr>\n",
       "      <th>2</th>\n",
       "      <td>0</td>\n",
       "      <td>2</td>\n",
       "      <td>-1.364846</td>\n",
       "      <td>-0.683634</td>\n",
       "      <td>1.041313</td>\n",
       "      <td>19</td>\n",
       "      <td>[0.0, 4.0, 4.0, 0.0, 0.0, 0.0, -4.0, -2.0, -2....</td>\n",
       "      <td>[[0.0, 0.0, 0.0, 0.0], [1.0, 1.0, 1.0, 1.0], [...</td>\n",
       "      <td>True</td>\n",
       "    </tr>\n",
       "    <tr>\n",
       "      <th>3</th>\n",
       "      <td>0</td>\n",
       "      <td>3</td>\n",
       "      <td>-2.389650</td>\n",
       "      <td>2.193502</td>\n",
       "      <td>1.000674</td>\n",
       "      <td>20</td>\n",
       "      <td>[0.0, 4.0, 4.0, 0.0, -2.0, 0.0, -2.0, 0.0, 0.0...</td>\n",
       "      <td>[[0.0, 0.0, 0.0, 0.0], [1.0, 1.0, 1.0, 1.0], [...</td>\n",
       "      <td>True</td>\n",
       "    </tr>\n",
       "    <tr>\n",
       "      <th>4</th>\n",
       "      <td>0</td>\n",
       "      <td>4</td>\n",
       "      <td>0.259351</td>\n",
       "      <td>-1.634673</td>\n",
       "      <td>0.916355</td>\n",
       "      <td>9</td>\n",
       "      <td>[0.0, 4.0, 4.0, 0.0, -2.0, 0.0, -2.0, -2.0, 0....</td>\n",
       "      <td>[[0.0, 0.0, 0.0, 0.0], [1.0, 1.0, 1.0, 1.0], [...</td>\n",
       "      <td>True</td>\n",
       "    </tr>\n",
       "    <tr>\n",
       "      <th>...</th>\n",
       "      <td>...</td>\n",
       "      <td>...</td>\n",
       "      <td>...</td>\n",
       "      <td>...</td>\n",
       "      <td>...</td>\n",
       "      <td>...</td>\n",
       "      <td>...</td>\n",
       "      <td>...</td>\n",
       "      <td>...</td>\n",
       "    </tr>\n",
       "    <tr>\n",
       "      <th>95</th>\n",
       "      <td>9</td>\n",
       "      <td>5</td>\n",
       "      <td>-2.385836</td>\n",
       "      <td>-2.114240</td>\n",
       "      <td>1.018515</td>\n",
       "      <td>28</td>\n",
       "      <td>[0.0, 4.0, 4.0, 4.0, 4.0, -4.0, 4.0, 2.0, 2.0,...</td>\n",
       "      <td>[[0.0, 0.0, 0.0, 0.0], [1.0, 1.0, 1.0, 1.0], [...</td>\n",
       "      <td>True</td>\n",
       "    </tr>\n",
       "    <tr>\n",
       "      <th>96</th>\n",
       "      <td>9</td>\n",
       "      <td>6</td>\n",
       "      <td>-0.602879</td>\n",
       "      <td>-0.579740</td>\n",
       "      <td>0.870687</td>\n",
       "      <td>38</td>\n",
       "      <td>[0.0, 4.0, 4.0, 4.0, 4.0, -4.0, 4.0, 2.0, 2.0,...</td>\n",
       "      <td>[[0.0, 0.0, 0.0, 0.0], [1.0, 1.0, 1.0, 1.0], [...</td>\n",
       "      <td>True</td>\n",
       "    </tr>\n",
       "    <tr>\n",
       "      <th>97</th>\n",
       "      <td>9</td>\n",
       "      <td>7</td>\n",
       "      <td>-0.640514</td>\n",
       "      <td>-0.989662</td>\n",
       "      <td>0.940529</td>\n",
       "      <td>33</td>\n",
       "      <td>[0.0, 4.0, 4.0, 4.0, 4.0, -4.0, 4.0, 2.0, 2.0,...</td>\n",
       "      <td>[[0.0, 0.0, 0.0, 0.0], [1.0, 1.0, 1.0, 1.0], [...</td>\n",
       "      <td>True</td>\n",
       "    </tr>\n",
       "    <tr>\n",
       "      <th>98</th>\n",
       "      <td>9</td>\n",
       "      <td>8</td>\n",
       "      <td>-0.535890</td>\n",
       "      <td>-0.960034</td>\n",
       "      <td>0.891644</td>\n",
       "      <td>44</td>\n",
       "      <td>[0.0, 4.0, 4.0, 4.0, 4.0, -4.0, 4.0, 2.0, 2.0,...</td>\n",
       "      <td>[[0.0, 0.0, 0.0, 0.0], [1.0, 1.0, 1.0, 1.0], [...</td>\n",
       "      <td>True</td>\n",
       "    </tr>\n",
       "    <tr>\n",
       "      <th>99</th>\n",
       "      <td>9</td>\n",
       "      <td>9</td>\n",
       "      <td>-0.614418</td>\n",
       "      <td>-1.055497</td>\n",
       "      <td>0.912851</td>\n",
       "      <td>8</td>\n",
       "      <td>[0.0, 4.0, 4.0, 4.0, 4.0, -4.0, 4.0, 4.0, 4.0,...</td>\n",
       "      <td>[[0.0, 0.0, 0.0, 0.0], [1.0, 1.0, 1.0, 1.0], [...</td>\n",
       "      <td>True</td>\n",
       "    </tr>\n",
       "  </tbody>\n",
       "</table>\n",
       "<p>100 rows × 9 columns</p>\n",
       "</div>"
      ],
      "text/plain": [
       "    species  gen         x         y         z  fitness  \\\n",
       "0         0    0 -0.171180 -0.899281  1.086173        5   \n",
       "1         0    1 -0.171180 -0.899281  1.086173        5   \n",
       "2         0    2 -1.364846 -0.683634  1.041313       19   \n",
       "3         0    3 -2.389650  2.193502  1.000674       20   \n",
       "4         0    4  0.259351 -1.634673  0.916355        9   \n",
       "..      ...  ...       ...       ...       ...      ...   \n",
       "95        9    5 -2.385836 -2.114240  1.018515       28   \n",
       "96        9    6 -0.602879 -0.579740  0.870687       38   \n",
       "97        9    7 -0.640514 -0.989662  0.940529       33   \n",
       "98        9    8 -0.535890 -0.960034  0.891644       44   \n",
       "99        9    9 -0.614418 -1.055497  0.912851        8   \n",
       "\n",
       "                                           sense_hist  \\\n",
       "0   [0.0, 4.0, 4.0, 4.0, 4.0, -2.0, 4.0, 2.0, 4.0,...   \n",
       "1   [0.0, 4.0, 4.0, 4.0, 4.0, -2.0, 4.0, 2.0, 4.0,...   \n",
       "2   [0.0, 4.0, 4.0, 0.0, 0.0, 0.0, -4.0, -2.0, -2....   \n",
       "3   [0.0, 4.0, 4.0, 0.0, -2.0, 0.0, -2.0, 0.0, 0.0...   \n",
       "4   [0.0, 4.0, 4.0, 0.0, -2.0, 0.0, -2.0, -2.0, 0....   \n",
       "..                                                ...   \n",
       "95  [0.0, 4.0, 4.0, 4.0, 4.0, -4.0, 4.0, 2.0, 2.0,...   \n",
       "96  [0.0, 4.0, 4.0, 4.0, 4.0, -4.0, 4.0, 2.0, 2.0,...   \n",
       "97  [0.0, 4.0, 4.0, 4.0, 4.0, -4.0, 4.0, 2.0, 2.0,...   \n",
       "98  [0.0, 4.0, 4.0, 4.0, 4.0, -4.0, 4.0, 2.0, 2.0,...   \n",
       "99  [0.0, 4.0, 4.0, 4.0, 4.0, -4.0, 4.0, 4.0, 4.0,...   \n",
       "\n",
       "                                             leg_hist  hidden  \n",
       "0   [[0.0, 0.0, 0.0, 0.0], [1.0, 1.0, 1.0, 1.0], [...    True  \n",
       "1   [[0.0, 0.0, 0.0, 0.0], [1.0, 1.0, 1.0, 1.0], [...    True  \n",
       "2   [[0.0, 0.0, 0.0, 0.0], [1.0, 1.0, 1.0, 1.0], [...    True  \n",
       "3   [[0.0, 0.0, 0.0, 0.0], [1.0, 1.0, 1.0, 1.0], [...    True  \n",
       "4   [[0.0, 0.0, 0.0, 0.0], [1.0, 1.0, 1.0, 1.0], [...    True  \n",
       "..                                                ...     ...  \n",
       "95  [[0.0, 0.0, 0.0, 0.0], [1.0, 1.0, 1.0, 1.0], [...    True  \n",
       "96  [[0.0, 0.0, 0.0, 0.0], [1.0, 1.0, 1.0, 1.0], [...    True  \n",
       "97  [[0.0, 0.0, 0.0, 0.0], [1.0, 1.0, 1.0, 1.0], [...    True  \n",
       "98  [[0.0, 0.0, 0.0, 0.0], [1.0, 1.0, 1.0, 1.0], [...    True  \n",
       "99  [[0.0, 0.0, 0.0, 0.0], [1.0, 1.0, 1.0, 1.0], [...    True  \n",
       "\n",
       "[100 rows x 9 columns]"
      ]
     },
     "execution_count": 2,
     "metadata": {},
     "output_type": "execute_result"
    }
   ],
   "source": [
    "import pandas as pd\n",
    "df = pd.DataFrame(fitness)\n",
    "\n",
    "df[[\"species\", \"hidden\"]] = df[\"species\"].str.split(\"-\", 1, expand=True)\n",
    "df[\"hidden\"] = df[\"hidden\"] == \"hidden\"\n",
    "\n",
    "cols = df.columns.drop([\"sense_hist\", \"leg_hist\", \"hidden\"])\n",
    "\n",
    "df[cols] = df[cols].apply(pd.to_numeric)\n",
    "df"
   ]
  },
  {
   "cell_type": "code",
   "execution_count": 3,
   "id": "07379605",
   "metadata": {},
   "outputs": [
    {
     "data": {
      "image/png": "[encoded data removed]",
      "text/plain": [
       "<Figure size 432x288 with 1 Axes>"
      ]
     },
     "metadata": {
      "needs_background": "light"
     },
     "output_type": "display_data"
    }
   ],
   "source": [
    "# df[df.species == 3][[\"fitness\", \"gen\"]].plot(x=\"gen\", y=\"fitness\")\n",
    "for i in range(num_species):\n",
    "    arr = df[df.species == i][[\"gen\",\"fitness\"]].to_numpy()\n",
    "    arr = np.maximum.accumulate(arr, axis=0)\n",
    "    plt.plot(arr[:,0], arr[:,1], label=f\"Species {i}\")\n",
    "\n",
    "plt.legend(bbox_to_anchor=(1.05, 1.0), loc='upper left')\n",
    "plt.show()"
   ]
  },
  {
   "cell_type": "code",
   "execution_count": 4,
   "id": "5d857456",
   "metadata": {},
   "outputs": [
    {
     "data": {
      "text/plain": [
       "<matplotlib.collections.PathCollection at 0x7facacd7a190>"
      ]
     },
     "execution_count": 4,
     "metadata": {},
     "output_type": "execute_result"
    },
    {
     "data": {
      "image/png": "[encoded data removed]",
      "text/plain": [
       "<Figure size 432x288 with 1 Axes>"
      ]
     },
     "metadata": {
      "needs_background": "light"
     },
     "output_type": "display_data"
    }
   ],
   "source": [
    "lh = np.asarray(df[\"leg_hist\"][99])\n",
    "mask = lh[:,0] == -1\n",
    "\n",
    "foot_down = np.zeros(mask.shape)\n",
    "# mask\n",
    "foot_down[mask] = 1\n",
    "plt.scatter(np.arange(0, len(mask)), foot_down, s=0.05)"
   ]
  },
  {
   "cell_type": "code",
   "execution_count": 5,
   "id": "3ec529ce",
   "metadata": {},
   "outputs": [],
   "source": [
    "# mask = df[[\"species\", \"gen\", \"leg_hist\", \"fitness\"]].fitness > 100\n",
    "# df[mask]\n",
    "most_fit_idxs = df.nlargest(3, \"fitness\").index.to_numpy()"
   ]
  },
  {
   "cell_type": "code",
   "execution_count": 6,
   "id": "9a6a2ac1",
   "metadata": {},
   "outputs": [
    {
     "data": {
      "image/png": "[encoded data removed]",
      "text/plain": [
       "<Figure size 1440x216 with 1 Axes>"
      ]
     },
     "metadata": {
      "needs_background": "light"
     },
     "output_type": "display_data"
    },
    {
     "data": {
      "image/png": "[encoded data removed]",
      "text/plain": [
       "<Figure size 1440x216 with 1 Axes>"
      ]
     },
     "metadata": {
      "needs_background": "light"
     },
     "output_type": "display_data"
    },
    {
     "data": {
      "image/png": "[encoded data removed]",
      "text/plain": [
       "<Figure size 1440x216 with 1 Axes>"
      ]
     },
     "metadata": {
      "needs_background": "light"
     },
     "output_type": "display_data"
    }
   ],
   "source": [
    "plt.rcParams[\"figure.figsize\"] = (20,3)\n",
    "\n",
    "for idx in most_fit_idxs:\n",
    "    lh = np.asarray(df[\"leg_hist\"][idx]).T\n",
    "    data = lh > 0\n",
    "    fig = plt.figure()\n",
    "    ax = fig.add_subplot(111)\n",
    "    ax.imshow(data, aspect='auto', cmap=\"binary\", interpolation='nearest')\n",
    "\n",
    "    plt.show()"
   ]
  },
  {
   "cell_type": "code",
   "execution_count": 7,
   "id": "7f3f846c",
   "metadata": {},
   "outputs": [
    {
     "data": {
      "image/png": "[encoded data removed]",
      "text/plain": [
       "<Figure size 1440x216 with 1 Axes>"
      ]
     },
     "metadata": {
      "needs_background": "light"
     },
     "output_type": "display_data"
    },
    {
     "data": {
      "image/png": "[encoded data removed]",
      "text/plain": [
       "<Figure size 1440x216 with 1 Axes>"
      ]
     },
     "metadata": {
      "needs_background": "light"
     },
     "output_type": "display_data"
    },
    {
     "data": {
      "image/png": "[encoded data removed]",
      "text/plain": [
       "<Figure size 1440x216 with 1 Axes>"
      ]
     },
     "metadata": {
      "needs_background": "light"
     },
     "output_type": "display_data"
    }
   ],
   "source": [
    "plt.rcParams[\"figure.figsize\"] = (20,3)\n",
    "\n",
    "for idx in most_fit_idxs:\n",
    "    lh = np.asarray(df[\"sense_hist\"][idx]).T\n",
    "    data = lh > -3\n",
    "    fig = plt.figure()\n",
    "    ax = fig.add_subplot(111)\n",
    "    \n",
    "    data = data.reshape((1000, 1)).T\n",
    "    ax.imshow(data, aspect='auto', cmap=\"binary\", interpolation='nearest')\n",
    "\n",
    "    plt.show()"
   ]
  },
  {
   "cell_type": "code",
   "execution_count": null,
   "id": "7dee272a",
   "metadata": {},
   "outputs": [],
   "source": []
  }
 ],
 "metadata": {
  "kernelspec": {
   "display_name": "Python 3 (ipykernel)",
   "language": "python",
   "name": "python3"
  },
  "language_info": {
   "codemirror_mode": {
    "name": "ipython",
    "version": 3
   },
   "file_extension": ".py",
   "mimetype": "text/x-python",
   "name": "python",
   "nbconvert_exporter": "python",
   "pygments_lexer": "ipython3",
   "version": "3.8.12"
  }
 },
 "nbformat": 4,
 "nbformat_minor": 5
}
